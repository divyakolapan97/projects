{
 "cells": [
  {
   "cell_type": "code",
   "execution_count": 80,
   "metadata": {},
   "outputs": [],
   "source": [
    "from bs4 import BeautifulSoup\n",
    "import csv\n",
    "from selenium import webdriver"
   ]
  },
  {
   "cell_type": "code",
   "execution_count": 81,
   "metadata": {},
   "outputs": [],
   "source": [
    "url = [\"https://www.kaggle.com/datasets\"]\n"
   ]
  },
  {
   "cell_type": "code",
   "execution_count": 82,
   "metadata": {},
   "outputs": [],
   "source": [
    "browser = webdriver.Chrome(\"C:\\webdrivers\\chromedriver.exe\")\n",
    "#browser.execute_script(\"window.scrollTo(0,document.body.scrollHeight)\")\n",
    "csv_file = open('dataresult.csv', 'w')\n",
    "csv_writer = csv.writer(csv_file)"
   ]
  },
  {
   "cell_type": "code",
   "execution_count": 83,
   "metadata": {},
   "outputs": [
    {
     "data": {
      "text/plain": [
       "87"
      ]
     },
     "execution_count": 83,
     "metadata": {},
     "output_type": "execute_result"
    }
   ],
   "source": [
    "csv_writer.writerow(['Title', 'ImageUrls', 'OrganisationNames' , 'updated' , 'dataSize','usability' ,'fileDetails','task','upvotes'])"
   ]
  },
  {
   "cell_type": "code",
   "execution_count": 84,
   "metadata": {},
   "outputs": [
    {
     "name": "stdout",
     "output_type": "stream",
     "text": [
      "COVID-19 Open Research Dataset Challenge (CORD-19)\n",
      "UNCOVER COVID-19 Challenge\n",
      "Fatal Police Shootings in the US\n",
      "ArXiv Metadata\n",
      "Stock-Market Sentiment Dataset\n",
      "COVID-19 Open Datasets for Brazil\n",
      "Global Significant Earthquake Database from 2150BC\n",
      "Global Education Statistics\n",
      "Daily Temperature of Major Cities \n",
      "Los Angeles 1992 Riot Deaths from LA Times\n",
      "Zomato Restaurants Hyderabad\n",
      "Minneapolis Police Stops and Police Violence\n",
      "HIV AIDS Dataset\n",
      "Bacteria detection with darkfield microscopy\n",
      "US Police Violence & Fatalities\n",
      "Campus Recruitment\n",
      "League of Legends Diamond Ranked Games (10 min)\n",
      "US counties COVID 19 dataset\n",
      "January Flight Delay Prediction\n",
      "Fake and real news dataset\n"
     ]
    }
   ],
   "source": [
    "#browser = webdriver.Chrome(\"C:\\webdrivers\\chromedriver.exe\")\n",
    "#browser.execute_script(\"window.scrollTo(0,document.body.scrollHeight)\")\n",
    "#csv_file = open('data.csv', 'w')\n",
    "#csv_writer = csv.writer(csv_file)\n",
    "#csv_writer.writerow(['Title', 'ImageUrls', 'OrganisationNames' , 'updated' , 'dataSize','usability' ,'fileDetails','task','upvotes'])\n",
    "\n",
    "for url in listUrls:\n",
    "    browser.get(url)\n",
    "    soup = BeautifulSoup(browser.page_source,\"html.parser\")\n",
    "    results = soup.findAll('li',{'class':\"sc-qamJO sc-qPkqk cphYpm sc-pdMIc ddxNyU\"})\n",
    "    for result in results:\n",
    "        title = result.a['title']\n",
    "        imgUrl = result.find('div',{'class':\"sc-pAayJ elXMQZ\"}).img['src']\n",
    "        orgName = result.find('span',{'class':\"sc-qQAox ZuGQw sc-pbvBv sc-pjuKs kCsUbZ\"}).text\n",
    "        updated = result.find('span',{'class':'sc-fznzOf sc-fznMnq sc-pZcYF iqpTDX'}).find('span',{'class':\"sc-qQAox ZuGQw sc-pbvBv crCQqj\"}).text\n",
    "        dataSize = result.find('span',{'class':\"sc-qQAox ZuGQw sc-pbvBv sc-qQKBW ccfjkD\"}).text\n",
    "        usability = result.find('div',{'class':\"sc-pciEQ gyCcbG sc-pBAKv dvLUMR\"}).span.text\n",
    "        try:\n",
    "            fileDetails = result.find('span',{'class':\"sc-qQAox ZuGQw sc-qYGzz gEuafb\"}).text\n",
    "        except:\n",
    "            fileDetails = \"None\"\n",
    "\n",
    "        try:\n",
    "            task = result.find('span',{'class':\"sc-qQAox ZuGQw sc-pbvBv sc-qQKBW ccfjkD\"}).text\n",
    "        except:\n",
    "            task = \"None\"\n",
    "        upvotes = result.find('span',{'class':\"sc-prqHV iIoUhh\"}).text\n",
    "        print(title)\n",
    "        csv_writer.writerow([title, imgUrl, orgName ,updated,dataSize,usability,fileDetails,task,upvotes])\n",
    "        \n",
    "csv_file.close()"
   ]
  },
  {
   "cell_type": "code",
   "execution_count": null,
   "metadata": {},
   "outputs": [],
   "source": [
    "\n"
   ]
  },
  {
   "cell_type": "code",
   "execution_count": null,
   "metadata": {},
   "outputs": [],
   "source": []
  },
  {
   "cell_type": "code",
   "execution_count": null,
   "metadata": {},
   "outputs": [],
   "source": []
  },
  {
   "cell_type": "code",
   "execution_count": null,
   "metadata": {},
   "outputs": [],
   "source": []
  },
  {
   "cell_type": "code",
   "execution_count": null,
   "metadata": {},
   "outputs": [],
   "source": []
  },
  {
   "cell_type": "code",
   "execution_count": null,
   "metadata": {},
   "outputs": [],
   "source": []
  },
  {
   "cell_type": "code",
   "execution_count": null,
   "metadata": {},
   "outputs": [],
   "source": []
  },
  {
   "cell_type": "code",
   "execution_count": null,
   "metadata": {},
   "outputs": [],
   "source": [
    "\n"
   ]
  },
  {
   "cell_type": "code",
   "execution_count": null,
   "metadata": {},
   "outputs": [],
   "source": []
  },
  {
   "cell_type": "code",
   "execution_count": null,
   "metadata": {},
   "outputs": [],
   "source": []
  },
  {
   "cell_type": "code",
   "execution_count": null,
   "metadata": {},
   "outputs": [],
   "source": [
    "\n",
    "\n"
   ]
  },
  {
   "cell_type": "code",
   "execution_count": 72,
   "metadata": {},
   "outputs": [],
   "source": []
  },
  {
   "cell_type": "code",
   "execution_count": null,
   "metadata": {},
   "outputs": [],
   "source": []
  }
 ],
 "metadata": {
  "kernelspec": {
   "display_name": "Python 3",
   "language": "python",
   "name": "python3"
  },
  "language_info": {
   "codemirror_mode": {
    "name": "ipython",
    "version": 3
   },
   "file_extension": ".py",
   "mimetype": "text/x-python",
   "name": "python",
   "nbconvert_exporter": "python",
   "pygments_lexer": "ipython3",
   "version": "3.7.6"
  }
 },
 "nbformat": 4,
 "nbformat_minor": 4
}
